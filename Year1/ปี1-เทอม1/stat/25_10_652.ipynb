{
  "nbformat": 4,
  "nbformat_minor": 0,
  "metadata": {
    "colab": {
      "provenance": []
    },
    "kernelspec": {
      "name": "python3",
      "display_name": "Python 3"
    },
    "language_info": {
      "name": "python"
    }
  },
  "cells": [
    {
      "cell_type": "code",
      "source": [
        "import pandas as pd\n",
        "import numpy as np\n",
        "import seaborn as sns\n",
        "sns.set_style('whitegrid')"
      ],
      "metadata": {
        "id": "4lknsixE4M3P"
      },
      "execution_count": 1,
      "outputs": []
    },
    {
      "cell_type": "code",
      "source": [
        "avg = 1\n",
        "std_dev = .1\n",
        "num_reps = 500\n",
        "pct_to_target = np.random.normal(avg, std_dev, num_reps).round(2)"
      ],
      "metadata": {
        "id": "j1RyLjL65Emr"
      },
      "execution_count": 2,
      "outputs": []
    },
    {
      "cell_type": "code",
      "source": [
        "pct_to_target[0:20]"
      ],
      "metadata": {
        "colab": {
          "base_uri": "https://localhost:8080/"
        },
        "id": "b8bSDKFy8397",
        "outputId": "f8b4d983-fad7-450f-97e1-e41db8138bb5"
      },
      "execution_count": 8,
      "outputs": [
        {
          "output_type": "execute_result",
          "data": {
            "text/plain": [
              "array([0.87, 0.95, 1.02, 0.97, 1.16, 0.95, 0.91, 1.06, 0.95, 0.83, 0.85,\n",
              "       1.  , 1.1 , 0.95, 0.96, 1.22, 0.98, 0.86, 1.01, 0.97])"
            ]
          },
          "metadata": {},
          "execution_count": 8
        }
      ]
    },
    {
      "cell_type": "code",
      "source": [
        "sales_target_values = [75_000, 100_000, 200_000, 300_000, 400_000, 500_000]\n",
        "sales_target_prob = [.3, .3, .2, .1, .05, .05]\n",
        "sales_target = np.random.choice(sales_target_values, num_reps, p=sales_target_prob)"
      ],
      "metadata": {
        "id": "iKyTJ4Sb86mL"
      },
      "execution_count": 4,
      "outputs": []
    },
    {
      "cell_type": "code",
      "source": [
        "df = pd.DataFrame(index=range(num_reps), data={'Pct_To_Target': pct_to_target,'Sales_Target': sales_target})"
      ],
      "metadata": {
        "id": "ZTsRm3188_XE"
      },
      "execution_count": 5,
      "outputs": []
    },
    {
      "cell_type": "code",
      "source": [
        "df['Sales'] = df['Pct_To_Target'] * df['Sales_Target']"
      ],
      "metadata": {
        "id": "ywBrDrz29CG_"
      },
      "execution_count": 6,
      "outputs": []
    },
    {
      "cell_type": "code",
      "source": [
        "df"
      ],
      "metadata": {
        "colab": {
          "base_uri": "https://localhost:8080/",
          "height": 424
        },
        "id": "G4zfvJfv9ETk",
        "outputId": "c738f08d-050e-4d71-b848-cc212130f44a"
      },
      "execution_count": 7,
      "outputs": [
        {
          "output_type": "execute_result",
          "data": {
            "text/plain": [
              "     Pct_To_Target  Sales_Target     Sales\n",
              "0             0.87        100000   87000.0\n",
              "1             0.95        100000   95000.0\n",
              "2             1.02        300000  306000.0\n",
              "3             0.97         75000   72750.0\n",
              "4             1.16        400000  464000.0\n",
              "..             ...           ...       ...\n",
              "495           0.89        100000   89000.0\n",
              "496           1.11        100000  111000.0\n",
              "497           0.95        200000  190000.0\n",
              "498           0.92        200000  184000.0\n",
              "499           0.98        100000   98000.0\n",
              "\n",
              "[500 rows x 3 columns]"
            ],
            "text/html": [
              "\n",
              "  <div id=\"df-0274e302-685c-40d4-ab59-652f1d8286e8\">\n",
              "    <div class=\"colab-df-container\">\n",
              "      <div>\n",
              "<style scoped>\n",
              "    .dataframe tbody tr th:only-of-type {\n",
              "        vertical-align: middle;\n",
              "    }\n",
              "\n",
              "    .dataframe tbody tr th {\n",
              "        vertical-align: top;\n",
              "    }\n",
              "\n",
              "    .dataframe thead th {\n",
              "        text-align: right;\n",
              "    }\n",
              "</style>\n",
              "<table border=\"1\" class=\"dataframe\">\n",
              "  <thead>\n",
              "    <tr style=\"text-align: right;\">\n",
              "      <th></th>\n",
              "      <th>Pct_To_Target</th>\n",
              "      <th>Sales_Target</th>\n",
              "      <th>Sales</th>\n",
              "    </tr>\n",
              "  </thead>\n",
              "  <tbody>\n",
              "    <tr>\n",
              "      <th>0</th>\n",
              "      <td>0.87</td>\n",
              "      <td>100000</td>\n",
              "      <td>87000.0</td>\n",
              "    </tr>\n",
              "    <tr>\n",
              "      <th>1</th>\n",
              "      <td>0.95</td>\n",
              "      <td>100000</td>\n",
              "      <td>95000.0</td>\n",
              "    </tr>\n",
              "    <tr>\n",
              "      <th>2</th>\n",
              "      <td>1.02</td>\n",
              "      <td>300000</td>\n",
              "      <td>306000.0</td>\n",
              "    </tr>\n",
              "    <tr>\n",
              "      <th>3</th>\n",
              "      <td>0.97</td>\n",
              "      <td>75000</td>\n",
              "      <td>72750.0</td>\n",
              "    </tr>\n",
              "    <tr>\n",
              "      <th>4</th>\n",
              "      <td>1.16</td>\n",
              "      <td>400000</td>\n",
              "      <td>464000.0</td>\n",
              "    </tr>\n",
              "    <tr>\n",
              "      <th>...</th>\n",
              "      <td>...</td>\n",
              "      <td>...</td>\n",
              "      <td>...</td>\n",
              "    </tr>\n",
              "    <tr>\n",
              "      <th>495</th>\n",
              "      <td>0.89</td>\n",
              "      <td>100000</td>\n",
              "      <td>89000.0</td>\n",
              "    </tr>\n",
              "    <tr>\n",
              "      <th>496</th>\n",
              "      <td>1.11</td>\n",
              "      <td>100000</td>\n",
              "      <td>111000.0</td>\n",
              "    </tr>\n",
              "    <tr>\n",
              "      <th>497</th>\n",
              "      <td>0.95</td>\n",
              "      <td>200000</td>\n",
              "      <td>190000.0</td>\n",
              "    </tr>\n",
              "    <tr>\n",
              "      <th>498</th>\n",
              "      <td>0.92</td>\n",
              "      <td>200000</td>\n",
              "      <td>184000.0</td>\n",
              "    </tr>\n",
              "    <tr>\n",
              "      <th>499</th>\n",
              "      <td>0.98</td>\n",
              "      <td>100000</td>\n",
              "      <td>98000.0</td>\n",
              "    </tr>\n",
              "  </tbody>\n",
              "</table>\n",
              "<p>500 rows × 3 columns</p>\n",
              "</div>\n",
              "      <button class=\"colab-df-convert\" onclick=\"convertToInteractive('df-0274e302-685c-40d4-ab59-652f1d8286e8')\"\n",
              "              title=\"Convert this dataframe to an interactive table.\"\n",
              "              style=\"display:none;\">\n",
              "        \n",
              "  <svg xmlns=\"http://www.w3.org/2000/svg\" height=\"24px\"viewBox=\"0 0 24 24\"\n",
              "       width=\"24px\">\n",
              "    <path d=\"M0 0h24v24H0V0z\" fill=\"none\"/>\n",
              "    <path d=\"M18.56 5.44l.94 2.06.94-2.06 2.06-.94-2.06-.94-.94-2.06-.94 2.06-2.06.94zm-11 1L8.5 8.5l.94-2.06 2.06-.94-2.06-.94L8.5 2.5l-.94 2.06-2.06.94zm10 10l.94 2.06.94-2.06 2.06-.94-2.06-.94-.94-2.06-.94 2.06-2.06.94z\"/><path d=\"M17.41 7.96l-1.37-1.37c-.4-.4-.92-.59-1.43-.59-.52 0-1.04.2-1.43.59L10.3 9.45l-7.72 7.72c-.78.78-.78 2.05 0 2.83L4 21.41c.39.39.9.59 1.41.59.51 0 1.02-.2 1.41-.59l7.78-7.78 2.81-2.81c.8-.78.8-2.07 0-2.86zM5.41 20L4 18.59l7.72-7.72 1.47 1.35L5.41 20z\"/>\n",
              "  </svg>\n",
              "      </button>\n",
              "      \n",
              "  <style>\n",
              "    .colab-df-container {\n",
              "      display:flex;\n",
              "      flex-wrap:wrap;\n",
              "      gap: 12px;\n",
              "    }\n",
              "\n",
              "    .colab-df-convert {\n",
              "      background-color: #E8F0FE;\n",
              "      border: none;\n",
              "      border-radius: 50%;\n",
              "      cursor: pointer;\n",
              "      display: none;\n",
              "      fill: #1967D2;\n",
              "      height: 32px;\n",
              "      padding: 0 0 0 0;\n",
              "      width: 32px;\n",
              "    }\n",
              "\n",
              "    .colab-df-convert:hover {\n",
              "      background-color: #E2EBFA;\n",
              "      box-shadow: 0px 1px 2px rgba(60, 64, 67, 0.3), 0px 1px 3px 1px rgba(60, 64, 67, 0.15);\n",
              "      fill: #174EA6;\n",
              "    }\n",
              "\n",
              "    [theme=dark] .colab-df-convert {\n",
              "      background-color: #3B4455;\n",
              "      fill: #D2E3FC;\n",
              "    }\n",
              "\n",
              "    [theme=dark] .colab-df-convert:hover {\n",
              "      background-color: #434B5C;\n",
              "      box-shadow: 0px 1px 3px 1px rgba(0, 0, 0, 0.15);\n",
              "      filter: drop-shadow(0px 1px 2px rgba(0, 0, 0, 0.3));\n",
              "      fill: #FFFFFF;\n",
              "    }\n",
              "  </style>\n",
              "\n",
              "      <script>\n",
              "        const buttonEl =\n",
              "          document.querySelector('#df-0274e302-685c-40d4-ab59-652f1d8286e8 button.colab-df-convert');\n",
              "        buttonEl.style.display =\n",
              "          google.colab.kernel.accessAllowed ? 'block' : 'none';\n",
              "\n",
              "        async function convertToInteractive(key) {\n",
              "          const element = document.querySelector('#df-0274e302-685c-40d4-ab59-652f1d8286e8');\n",
              "          const dataTable =\n",
              "            await google.colab.kernel.invokeFunction('convertToInteractive',\n",
              "                                                     [key], {});\n",
              "          if (!dataTable) return;\n",
              "\n",
              "          const docLinkHtml = 'Like what you see? Visit the ' +\n",
              "            '<a target=\"_blank\" href=https://colab.research.google.com/notebooks/data_table.ipynb>data table notebook</a>'\n",
              "            + ' to learn more about interactive tables.';\n",
              "          element.innerHTML = '';\n",
              "          dataTable['output_type'] = 'display_data';\n",
              "          await google.colab.output.renderOutput(dataTable, element);\n",
              "          const docLink = document.createElement('div');\n",
              "          docLink.innerHTML = docLinkHtml;\n",
              "          element.appendChild(docLink);\n",
              "        }\n",
              "      </script>\n",
              "    </div>\n",
              "  </div>\n",
              "  "
            ]
          },
          "metadata": {},
          "execution_count": 7
        }
      ]
    },
    {
      "cell_type": "code",
      "source": [
        "df['Pct_To_Target'].plot(kind='hist', title='Percent to Target Distribution')"
      ],
      "metadata": {
        "colab": {
          "base_uri": "https://localhost:8080/",
          "height": 298
        },
        "id": "mX7pEWGf9HT2",
        "outputId": "c1d19487-e2df-45e6-809e-e3b4ca97d84c"
      },
      "execution_count": 9,
      "outputs": [
        {
          "output_type": "execute_result",
          "data": {
            "text/plain": [
              "<matplotlib.axes._subplots.AxesSubplot at 0x7f71d513c410>"
            ]
          },
          "metadata": {},
          "execution_count": 9
        },
        {
          "output_type": "display_data",
          "data": {
            "text/plain": [
              "<Figure size 432x288 with 1 Axes>"
            ],
            "image/png": "[encoded data removed]"
          },
          "metadata": {}
        }
      ]
    },
    {
      "cell_type": "code",
      "source": [
        "sns.countplot(x = 'Sales_Target', data = df, palette = 'Set2')"
      ],
      "metadata": {
        "colab": {
          "base_uri": "https://localhost:8080/",
          "height": 298
        },
        "id": "XqjsgRKk9Oua",
        "outputId": "25541c07-53ac-4f46-dec0-f263d8945b1d"
      },
      "execution_count": 10,
      "outputs": [
        {
          "output_type": "execute_result",
          "data": {
            "text/plain": [
              "<matplotlib.axes._subplots.AxesSubplot at 0x7f71d5046d10>"
            ]
          },
          "metadata": {},
          "execution_count": 10
        },
        {
          "output_type": "display_data",
          "data": {
            "text/plain": [
              "<Figure size 432x288 with 1 Axes>"
            ],
            "image/png": "[encoded data removed]"
          },
          "metadata": {}
        }
      ]
    },
    {
      "cell_type": "code",
      "source": [
        "def calc_commission_rate(x):\n",
        "  if x <= .90:\n",
        "    return .02\n",
        "  if x <= .99:\n",
        "    return .03\n",
        "  else:\n",
        "    return .04"
      ],
      "metadata": {
        "id": "dRDbtSQ_9TUy"
      },
      "execution_count": 11,
      "outputs": []
    },
    {
      "cell_type": "code",
      "source": [
        "df['Commission_Rate'] = df['Pct_To_Target'].apply(calc_commission_rate)"
      ],
      "metadata": {
        "id": "tl1phdgr9V64"
      },
      "execution_count": 12,
      "outputs": []
    },
    {
      "cell_type": "code",
      "source": [
        "df['Commission_Amount'] = df['Commission_Rate'] * df['Sales']"
      ],
      "metadata": {
        "id": "QvPjmtsI9XlW"
      },
      "execution_count": 13,
      "outputs": []
    },
    {
      "cell_type": "code",
      "source": [
        "df.head(10)"
      ],
      "metadata": {
        "colab": {
          "base_uri": "https://localhost:8080/",
          "height": 363
        },
        "id": "EXq9nUac9ZQd",
        "outputId": "622f122e-1543-43a4-a3c1-bfc052911575"
      },
      "execution_count": 14,
      "outputs": [
        {
          "output_type": "execute_result",
          "data": {
            "text/plain": [
              "   Pct_To_Target  Sales_Target     Sales  Commission_Rate  Commission_Amount\n",
              "0           0.87        100000   87000.0             0.02             1740.0\n",
              "1           0.95        100000   95000.0             0.03             2850.0\n",
              "2           1.02        300000  306000.0             0.04            12240.0\n",
              "3           0.97         75000   72750.0             0.03             2182.5\n",
              "4           1.16        400000  464000.0             0.04            18560.0\n",
              "5           0.95        300000  285000.0             0.03             8550.0\n",
              "6           0.91        100000   91000.0             0.03             2730.0\n",
              "7           1.06        100000  106000.0             0.04             4240.0\n",
              "8           0.95        200000  190000.0             0.03             5700.0\n",
              "9           0.83        400000  332000.0             0.02             6640.0"
            ],
            "text/html": [
              "\n",
              "  <div id=\"df-d9bae9f4-ce88-493b-8dfa-6b915a5ff899\">\n",
              "    <div class=\"colab-df-container\">\n",
              "      <div>\n",
              "<style scoped>\n",
              "    .dataframe tbody tr th:only-of-type {\n",
              "        vertical-align: middle;\n",
              "    }\n",
              "\n",
              "    .dataframe tbody tr th {\n",
              "        vertical-align: top;\n",
              "    }\n",
              "\n",
              "    .dataframe thead th {\n",
              "        text-align: right;\n",
              "    }\n",
              "</style>\n",
              "<table border=\"1\" class=\"dataframe\">\n",
              "  <thead>\n",
              "    <tr style=\"text-align: right;\">\n",
              "      <th></th>\n",
              "      <th>Pct_To_Target</th>\n",
              "      <th>Sales_Target</th>\n",
              "      <th>Sales</th>\n",
              "      <th>Commission_Rate</th>\n",
              "      <th>Commission_Amount</th>\n",
              "    </tr>\n",
              "  </thead>\n",
              "  <tbody>\n",
              "    <tr>\n",
              "      <th>0</th>\n",
              "      <td>0.87</td>\n",
              "      <td>100000</td>\n",
              "      <td>87000.0</td>\n",
              "      <td>0.02</td>\n",
              "      <td>1740.0</td>\n",
              "    </tr>\n",
              "    <tr>\n",
              "      <th>1</th>\n",
              "      <td>0.95</td>\n",
              "      <td>100000</td>\n",
              "      <td>95000.0</td>\n",
              "      <td>0.03</td>\n",
              "      <td>2850.0</td>\n",
              "    </tr>\n",
              "    <tr>\n",
              "      <th>2</th>\n",
              "      <td>1.02</td>\n",
              "      <td>300000</td>\n",
              "      <td>306000.0</td>\n",
              "      <td>0.04</td>\n",
              "      <td>12240.0</td>\n",
              "    </tr>\n",
              "    <tr>\n",
              "      <th>3</th>\n",
              "      <td>0.97</td>\n",
              "      <td>75000</td>\n",
              "      <td>72750.0</td>\n",
              "      <td>0.03</td>\n",
              "      <td>2182.5</td>\n",
              "    </tr>\n",
              "    <tr>\n",
              "      <th>4</th>\n",
              "      <td>1.16</td>\n",
              "      <td>400000</td>\n",
              "      <td>464000.0</td>\n",
              "      <td>0.04</td>\n",
              "      <td>18560.0</td>\n",
              "    </tr>\n",
              "    <tr>\n",
              "      <th>5</th>\n",
              "      <td>0.95</td>\n",
              "      <td>300000</td>\n",
              "      <td>285000.0</td>\n",
              "      <td>0.03</td>\n",
              "      <td>8550.0</td>\n",
              "    </tr>\n",
              "    <tr>\n",
              "      <th>6</th>\n",
              "      <td>0.91</td>\n",
              "      <td>100000</td>\n",
              "      <td>91000.0</td>\n",
              "      <td>0.03</td>\n",
              "      <td>2730.0</td>\n",
              "    </tr>\n",
              "    <tr>\n",
              "      <th>7</th>\n",
              "      <td>1.06</td>\n",
              "      <td>100000</td>\n",
              "      <td>106000.0</td>\n",
              "      <td>0.04</td>\n",
              "      <td>4240.0</td>\n",
              "    </tr>\n",
              "    <tr>\n",
              "      <th>8</th>\n",
              "      <td>0.95</td>\n",
              "      <td>200000</td>\n",
              "      <td>190000.0</td>\n",
              "      <td>0.03</td>\n",
              "      <td>5700.0</td>\n",
              "    </tr>\n",
              "    <tr>\n",
              "      <th>9</th>\n",
              "      <td>0.83</td>\n",
              "      <td>400000</td>\n",
              "      <td>332000.0</td>\n",
              "      <td>0.02</td>\n",
              "      <td>6640.0</td>\n",
              "    </tr>\n",
              "  </tbody>\n",
              "</table>\n",
              "</div>\n",
              "      <button class=\"colab-df-convert\" onclick=\"convertToInteractive('df-d9bae9f4-ce88-493b-8dfa-6b915a5ff899')\"\n",
              "              title=\"Convert this dataframe to an interactive table.\"\n",
              "              style=\"display:none;\">\n",
              "        \n",
              "  <svg xmlns=\"http://www.w3.org/2000/svg\" height=\"24px\"viewBox=\"0 0 24 24\"\n",
              "       width=\"24px\">\n",
              "    <path d=\"M0 0h24v24H0V0z\" fill=\"none\"/>\n",
              "    <path d=\"M18.56 5.44l.94 2.06.94-2.06 2.06-.94-2.06-.94-.94-2.06-.94 2.06-2.06.94zm-11 1L8.5 8.5l.94-2.06 2.06-.94-2.06-.94L8.5 2.5l-.94 2.06-2.06.94zm10 10l.94 2.06.94-2.06 2.06-.94-2.06-.94-.94-2.06-.94 2.06-2.06.94z\"/><path d=\"M17.41 7.96l-1.37-1.37c-.4-.4-.92-.59-1.43-.59-.52 0-1.04.2-1.43.59L10.3 9.45l-7.72 7.72c-.78.78-.78 2.05 0 2.83L4 21.41c.39.39.9.59 1.41.59.51 0 1.02-.2 1.41-.59l7.78-7.78 2.81-2.81c.8-.78.8-2.07 0-2.86zM5.41 20L4 18.59l7.72-7.72 1.47 1.35L5.41 20z\"/>\n",
              "  </svg>\n",
              "      </button>\n",
              "      \n",
              "  <style>\n",
              "    .colab-df-container {\n",
              "      display:flex;\n",
              "      flex-wrap:wrap;\n",
              "      gap: 12px;\n",
              "    }\n",
              "\n",
              "    .colab-df-convert {\n",
              "      background-color: #E8F0FE;\n",
              "      border: none;\n",
              "      border-radius: 50%;\n",
              "      cursor: pointer;\n",
              "      display: none;\n",
              "      fill: #1967D2;\n",
              "      height: 32px;\n",
              "      padding: 0 0 0 0;\n",
              "      width: 32px;\n",
              "    }\n",
              "\n",
              "    .colab-df-convert:hover {\n",
              "      background-color: #E2EBFA;\n",
              "      box-shadow: 0px 1px 2px rgba(60, 64, 67, 0.3), 0px 1px 3px 1px rgba(60, 64, 67, 0.15);\n",
              "      fill: #174EA6;\n",
              "    }\n",
              "\n",
              "    [theme=dark] .colab-df-convert {\n",
              "      background-color: #3B4455;\n",
              "      fill: #D2E3FC;\n",
              "    }\n",
              "\n",
              "    [theme=dark] .colab-df-convert:hover {\n",
              "      background-color: #434B5C;\n",
              "      box-shadow: 0px 1px 3px 1px rgba(0, 0, 0, 0.15);\n",
              "      filter: drop-shadow(0px 1px 2px rgba(0, 0, 0, 0.3));\n",
              "      fill: #FFFFFF;\n",
              "    }\n",
              "  </style>\n",
              "\n",
              "      <script>\n",
              "        const buttonEl =\n",
              "          document.querySelector('#df-d9bae9f4-ce88-493b-8dfa-6b915a5ff899 button.colab-df-convert');\n",
              "        buttonEl.style.display =\n",
              "          google.colab.kernel.accessAllowed ? 'block' : 'none';\n",
              "\n",
              "        async function convertToInteractive(key) {\n",
              "          const element = document.querySelector('#df-d9bae9f4-ce88-493b-8dfa-6b915a5ff899');\n",
              "          const dataTable =\n",
              "            await google.colab.kernel.invokeFunction('convertToInteractive',\n",
              "                                                     [key], {});\n",
              "          if (!dataTable) return;\n",
              "\n",
              "          const docLinkHtml = 'Like what you see? Visit the ' +\n",
              "            '<a target=\"_blank\" href=https://colab.research.google.com/notebooks/data_table.ipynb>data table notebook</a>'\n",
              "            + ' to learn more about interactive tables.';\n",
              "          element.innerHTML = '';\n",
              "          dataTable['output_type'] = 'display_data';\n",
              "          await google.colab.output.renderOutput(dataTable, element);\n",
              "          const docLink = document.createElement('div');\n",
              "          docLink.innerHTML = docLinkHtml;\n",
              "          element.appendChild(docLink);\n",
              "        }\n",
              "      </script>\n",
              "    </div>\n",
              "  </div>\n",
              "  "
            ]
          },
          "metadata": {},
          "execution_count": 14
        }
      ]
    },
    {
      "cell_type": "code",
      "source": [
        "num_simulations = 1000\n",
        "all_stats = []\n",
        "# Loop through many simulations\n",
        "for i in range(num_simulations):\n",
        "  # Choose random inputs for the sales targets and percent to target\n",
        "  sales_target = np.random.choice(sales_target_values, num_reps, p=sales_target_prob)\n",
        "  pct_to_target = np.random.normal(avg, std_dev, num_reps).round(2)\n",
        "  # Build the dataframe based on the inputs and number of reps\n",
        "  df = pd.DataFrame(index=range(num_reps), data={'Pct_To_Target': pct_to_target,'Sales_Target': sales_target})\n",
        "\n",
        "  # Back into the sales number using the percent to target rate\n",
        "  df['Sales'] = df['Pct_To_Target'] * df['Sales_Target']\n",
        "  # Determine the commissions rate and calculate it\n",
        "  df['Commission_Rate'] = df['Pct_To_Target'].apply(calc_commission_rate)\n",
        "  df['Commission_Amount'] = df['Commission_Rate'] * df['Sales']\n",
        "  # We want to track sales,commission amounts and sales targets over all the simulations\n",
        "  all_stats.append([df['Sales'].sum().round(0),\n",
        "                    df['Commission_Amount'].sum().round(0),\n",
        "                    df['Sales_Target'].sum().round(0)])"
      ],
      "metadata": {
        "id": "rZMTYSXs9bQ1"
      },
      "execution_count": 15,
      "outputs": []
    },
    {
      "cell_type": "code",
      "source": [
        "results_df = pd.DataFrame.from_records(all_stats, columns=['Sales','Commission_Amount','Sales_Target'])"
      ],
      "metadata": {
        "id": "4AlTeLxW9dyA"
      },
      "execution_count": 16,
      "outputs": []
    },
    {
      "cell_type": "code",
      "source": [
        "results_df"
      ],
      "metadata": {
        "colab": {
          "base_uri": "https://localhost:8080/",
          "height": 424
        },
        "id": "6g-3L0kI9f5M",
        "outputId": "dc76be0b-1aac-437b-8fbb-6d971ff44684"
      },
      "execution_count": 17,
      "outputs": [
        {
          "output_type": "execute_result",
          "data": {
            "text/plain": [
              "          Sales  Commission_Amount  Sales_Target\n",
              "0    87158500.0          3023620.0      86625000\n",
              "1    82824500.0          2869598.0      82350000\n",
              "2    82700000.0          2826150.0      82850000\n",
              "3    76641750.0          2617000.0      76750000\n",
              "4    84459000.0          2837330.0      85200000\n",
              "..          ...                ...           ...\n",
              "995  84002500.0          2820030.0      84375000\n",
              "996  83887500.0          2809210.0      84825000\n",
              "997  81878500.0          2795092.0      81650000\n",
              "998  80267500.0          2735925.0      80250000\n",
              "999  85362250.0          2894738.0      85050000\n",
              "\n",
              "[1000 rows x 3 columns]"
            ],
            "text/html": [
              "\n",
              "  <div id=\"df-4fb71b2a-d2ea-40ed-8e97-5c395b07470e\">\n",
              "    <div class=\"colab-df-container\">\n",
              "      <div>\n",
              "<style scoped>\n",
              "    .dataframe tbody tr th:only-of-type {\n",
              "        vertical-align: middle;\n",
              "    }\n",
              "\n",
              "    .dataframe tbody tr th {\n",
              "        vertical-align: top;\n",
              "    }\n",
              "\n",
              "    .dataframe thead th {\n",
              "        text-align: right;\n",
              "    }\n",
              "</style>\n",
              "<table border=\"1\" class=\"dataframe\">\n",
              "  <thead>\n",
              "    <tr style=\"text-align: right;\">\n",
              "      <th></th>\n",
              "      <th>Sales</th>\n",
              "      <th>Commission_Amount</th>\n",
              "      <th>Sales_Target</th>\n",
              "    </tr>\n",
              "  </thead>\n",
              "  <tbody>\n",
              "    <tr>\n",
              "      <th>0</th>\n",
              "      <td>87158500.0</td>\n",
              "      <td>3023620.0</td>\n",
              "      <td>86625000</td>\n",
              "    </tr>\n",
              "    <tr>\n",
              "      <th>1</th>\n",
              "      <td>82824500.0</td>\n",
              "      <td>2869598.0</td>\n",
              "      <td>82350000</td>\n",
              "    </tr>\n",
              "    <tr>\n",
              "      <th>2</th>\n",
              "      <td>82700000.0</td>\n",
              "      <td>2826150.0</td>\n",
              "      <td>82850000</td>\n",
              "    </tr>\n",
              "    <tr>\n",
              "      <th>3</th>\n",
              "      <td>76641750.0</td>\n",
              "      <td>2617000.0</td>\n",
              "      <td>76750000</td>\n",
              "    </tr>\n",
              "    <tr>\n",
              "      <th>4</th>\n",
              "      <td>84459000.0</td>\n",
              "      <td>2837330.0</td>\n",
              "      <td>85200000</td>\n",
              "    </tr>\n",
              "    <tr>\n",
              "      <th>...</th>\n",
              "      <td>...</td>\n",
              "      <td>...</td>\n",
              "      <td>...</td>\n",
              "    </tr>\n",
              "    <tr>\n",
              "      <th>995</th>\n",
              "      <td>84002500.0</td>\n",
              "      <td>2820030.0</td>\n",
              "      <td>84375000</td>\n",
              "    </tr>\n",
              "    <tr>\n",
              "      <th>996</th>\n",
              "      <td>83887500.0</td>\n",
              "      <td>2809210.0</td>\n",
              "      <td>84825000</td>\n",
              "    </tr>\n",
              "    <tr>\n",
              "      <th>997</th>\n",
              "      <td>81878500.0</td>\n",
              "      <td>2795092.0</td>\n",
              "      <td>81650000</td>\n",
              "    </tr>\n",
              "    <tr>\n",
              "      <th>998</th>\n",
              "      <td>80267500.0</td>\n",
              "      <td>2735925.0</td>\n",
              "      <td>80250000</td>\n",
              "    </tr>\n",
              "    <tr>\n",
              "      <th>999</th>\n",
              "      <td>85362250.0</td>\n",
              "      <td>2894738.0</td>\n",
              "      <td>85050000</td>\n",
              "    </tr>\n",
              "  </tbody>\n",
              "</table>\n",
              "<p>1000 rows × 3 columns</p>\n",
              "</div>\n",
              "      <button class=\"colab-df-convert\" onclick=\"convertToInteractive('df-4fb71b2a-d2ea-40ed-8e97-5c395b07470e')\"\n",
              "              title=\"Convert this dataframe to an interactive table.\"\n",
              "              style=\"display:none;\">\n",
              "        \n",
              "  <svg xmlns=\"http://www.w3.org/2000/svg\" height=\"24px\"viewBox=\"0 0 24 24\"\n",
              "       width=\"24px\">\n",
              "    <path d=\"M0 0h24v24H0V0z\" fill=\"none\"/>\n",
              "    <path d=\"M18.56 5.44l.94 2.06.94-2.06 2.06-.94-2.06-.94-.94-2.06-.94 2.06-2.06.94zm-11 1L8.5 8.5l.94-2.06 2.06-.94-2.06-.94L8.5 2.5l-.94 2.06-2.06.94zm10 10l.94 2.06.94-2.06 2.06-.94-2.06-.94-.94-2.06-.94 2.06-2.06.94z\"/><path d=\"M17.41 7.96l-1.37-1.37c-.4-.4-.92-.59-1.43-.59-.52 0-1.04.2-1.43.59L10.3 9.45l-7.72 7.72c-.78.78-.78 2.05 0 2.83L4 21.41c.39.39.9.59 1.41.59.51 0 1.02-.2 1.41-.59l7.78-7.78 2.81-2.81c.8-.78.8-2.07 0-2.86zM5.41 20L4 18.59l7.72-7.72 1.47 1.35L5.41 20z\"/>\n",
              "  </svg>\n",
              "      </button>\n",
              "      \n",
              "  <style>\n",
              "    .colab-df-container {\n",
              "      display:flex;\n",
              "      flex-wrap:wrap;\n",
              "      gap: 12px;\n",
              "    }\n",
              "\n",
              "    .colab-df-convert {\n",
              "      background-color: #E8F0FE;\n",
              "      border: none;\n",
              "      border-radius: 50%;\n",
              "      cursor: pointer;\n",
              "      display: none;\n",
              "      fill: #1967D2;\n",
              "      height: 32px;\n",
              "      padding: 0 0 0 0;\n",
              "      width: 32px;\n",
              "    }\n",
              "\n",
              "    .colab-df-convert:hover {\n",
              "      background-color: #E2EBFA;\n",
              "      box-shadow: 0px 1px 2px rgba(60, 64, 67, 0.3), 0px 1px 3px 1px rgba(60, 64, 67, 0.15);\n",
              "      fill: #174EA6;\n",
              "    }\n",
              "\n",
              "    [theme=dark] .colab-df-convert {\n",
              "      background-color: #3B4455;\n",
              "      fill: #D2E3FC;\n",
              "    }\n",
              "\n",
              "    [theme=dark] .colab-df-convert:hover {\n",
              "      background-color: #434B5C;\n",
              "      box-shadow: 0px 1px 3px 1px rgba(0, 0, 0, 0.15);\n",
              "      filter: drop-shadow(0px 1px 2px rgba(0, 0, 0, 0.3));\n",
              "      fill: #FFFFFF;\n",
              "    }\n",
              "  </style>\n",
              "\n",
              "      <script>\n",
              "        const buttonEl =\n",
              "          document.querySelector('#df-4fb71b2a-d2ea-40ed-8e97-5c395b07470e button.colab-df-convert');\n",
              "        buttonEl.style.display =\n",
              "          google.colab.kernel.accessAllowed ? 'block' : 'none';\n",
              "\n",
              "        async function convertToInteractive(key) {\n",
              "          const element = document.querySelector('#df-4fb71b2a-d2ea-40ed-8e97-5c395b07470e');\n",
              "          const dataTable =\n",
              "            await google.colab.kernel.invokeFunction('convertToInteractive',\n",
              "                                                     [key], {});\n",
              "          if (!dataTable) return;\n",
              "\n",
              "          const docLinkHtml = 'Like what you see? Visit the ' +\n",
              "            '<a target=\"_blank\" href=https://colab.research.google.com/notebooks/data_table.ipynb>data table notebook</a>'\n",
              "            + ' to learn more about interactive tables.';\n",
              "          element.innerHTML = '';\n",
              "          dataTable['output_type'] = 'display_data';\n",
              "          await google.colab.output.renderOutput(dataTable, element);\n",
              "          const docLink = document.createElement('div');\n",
              "          docLink.innerHTML = docLinkHtml;\n",
              "          element.appendChild(docLink);\n",
              "        }\n",
              "      </script>\n",
              "    </div>\n",
              "  </div>\n",
              "  "
            ]
          },
          "metadata": {},
          "execution_count": 17
        }
      ]
    },
    {
      "cell_type": "code",
      "source": [
        "results_df.describe().style.format('{:,.2f}')"
      ],
      "metadata": {
        "colab": {
          "base_uri": "https://localhost:8080/",
          "height": 300
        },
        "id": "X8au-UoQ9iK1",
        "outputId": "9cbee52a-b7f5-49fa-88f5-dfac0e0ed437"
      },
      "execution_count": 18,
      "outputs": [
        {
          "output_type": "execute_result",
          "data": {
            "text/plain": [
              "<pandas.io.formats.style.Styler at 0x7f71d4b6fdd0>"
            ],
            "text/html": [
              "<style type=\"text/css\">\n",
              "</style>\n",
              "<table id=\"T_84dc3_\" class=\"dataframe\">\n",
              "  <thead>\n",
              "    <tr>\n",
              "      <th class=\"blank level0\" >&nbsp;</th>\n",
              "      <th class=\"col_heading level0 col0\" >Sales</th>\n",
              "      <th class=\"col_heading level0 col1\" >Commission_Amount</th>\n",
              "      <th class=\"col_heading level0 col2\" >Sales_Target</th>\n",
              "    </tr>\n",
              "  </thead>\n",
              "  <tbody>\n",
              "    <tr>\n",
              "      <th id=\"T_84dc3_level0_row0\" class=\"row_heading level0 row0\" >count</th>\n",
              "      <td id=\"T_84dc3_row0_col0\" class=\"data row0 col0\" >1,000.00</td>\n",
              "      <td id=\"T_84dc3_row0_col1\" class=\"data row0 col1\" >1,000.00</td>\n",
              "      <td id=\"T_84dc3_row0_col2\" class=\"data row0 col2\" >1,000.00</td>\n",
              "    </tr>\n",
              "    <tr>\n",
              "      <th id=\"T_84dc3_level0_row1\" class=\"row_heading level0 row1\" >mean</th>\n",
              "      <td id=\"T_84dc3_row1_col0\" class=\"data row1 col0\" >83,774,850.25</td>\n",
              "      <td id=\"T_84dc3_row1_col1\" class=\"data row1 col1\" >2,860,287.53</td>\n",
              "      <td id=\"T_84dc3_row1_col2\" class=\"data row1 col2\" >83,775,900.00</td>\n",
              "    </tr>\n",
              "    <tr>\n",
              "      <th id=\"T_84dc3_level0_row2\" class=\"row_heading level0 row2\" >std</th>\n",
              "      <td id=\"T_84dc3_row2_col0\" class=\"data row2 col0\" >2,645,091.47</td>\n",
              "      <td id=\"T_84dc3_row2_col1\" class=\"data row2 col1\" >100,663.55</td>\n",
              "      <td id=\"T_84dc3_row2_col2\" class=\"data row2 col2\" >2,615,409.30</td>\n",
              "    </tr>\n",
              "    <tr>\n",
              "      <th id=\"T_84dc3_level0_row3\" class=\"row_heading level0 row3\" >min</th>\n",
              "      <td id=\"T_84dc3_row3_col0\" class=\"data row3 col0\" >75,910,500.00</td>\n",
              "      <td id=\"T_84dc3_row3_col1\" class=\"data row3 col1\" >2,586,140.00</td>\n",
              "      <td id=\"T_84dc3_row3_col2\" class=\"data row3 col2\" >75,800,000.00</td>\n",
              "    </tr>\n",
              "    <tr>\n",
              "      <th id=\"T_84dc3_level0_row4\" class=\"row_heading level0 row4\" >25%</th>\n",
              "      <td id=\"T_84dc3_row4_col0\" class=\"data row4 col0\" >81,925,437.50</td>\n",
              "      <td id=\"T_84dc3_row4_col1\" class=\"data row4 col1\" >2,791,665.50</td>\n",
              "      <td id=\"T_84dc3_row4_col2\" class=\"data row4 col2\" >81,943,750.00</td>\n",
              "    </tr>\n",
              "    <tr>\n",
              "      <th id=\"T_84dc3_level0_row5\" class=\"row_heading level0 row5\" >50%</th>\n",
              "      <td id=\"T_84dc3_row5_col0\" class=\"data row5 col0\" >83,721,750.00</td>\n",
              "      <td id=\"T_84dc3_row5_col1\" class=\"data row5 col1\" >2,856,881.00</td>\n",
              "      <td id=\"T_84dc3_row5_col2\" class=\"data row5 col2\" >83,750,000.00</td>\n",
              "    </tr>\n",
              "    <tr>\n",
              "      <th id=\"T_84dc3_level0_row6\" class=\"row_heading level0 row6\" >75%</th>\n",
              "      <td id=\"T_84dc3_row6_col0\" class=\"data row6 col0\" >85,652,562.50</td>\n",
              "      <td id=\"T_84dc3_row6_col1\" class=\"data row6 col1\" >2,928,316.25</td>\n",
              "      <td id=\"T_84dc3_row6_col2\" class=\"data row6 col2\" >85,550,000.00</td>\n",
              "    </tr>\n",
              "    <tr>\n",
              "      <th id=\"T_84dc3_level0_row7\" class=\"row_heading level0 row7\" >max</th>\n",
              "      <td id=\"T_84dc3_row7_col0\" class=\"data row7 col0\" >92,487,000.00</td>\n",
              "      <td id=\"T_84dc3_row7_col1\" class=\"data row7 col1\" >3,181,642.00</td>\n",
              "      <td id=\"T_84dc3_row7_col2\" class=\"data row7 col2\" >92,425,000.00</td>\n",
              "    </tr>\n",
              "  </tbody>\n",
              "</table>\n"
            ]
          },
          "metadata": {},
          "execution_count": 18
        }
      ]
    },
    {
      "cell_type": "code",
      "source": [
        "from tabulate import tabulate\n",
        "print((tabulate(results_df.describe(),headers='keys',floatfmt=\",.2f\",tablefmt='psql')))"
      ],
      "metadata": {
        "colab": {
          "base_uri": "https://localhost:8080/"
        },
        "id": "p_rMVr_w9kVD",
        "outputId": "ad8d09ab-5204-41b6-dbbb-f7fc83fc0fd7"
      },
      "execution_count": 19,
      "outputs": [
        {
          "output_type": "stream",
          "name": "stdout",
          "text": [
            "+-------+---------------+---------------------+----------------+\n",
            "|       |         Sales |   Commission_Amount |   Sales_Target |\n",
            "|-------+---------------+---------------------+----------------|\n",
            "| count |      1,000.00 |            1,000.00 |       1,000.00 |\n",
            "| mean  | 83,774,850.25 |        2,860,287.53 |  83,775,900.00 |\n",
            "| std   |  2,645,091.47 |          100,663.55 |   2,615,409.30 |\n",
            "| min   | 75,910,500.00 |        2,586,140.00 |  75,800,000.00 |\n",
            "| 25%   | 81,925,437.50 |        2,791,665.50 |  81,943,750.00 |\n",
            "| 50%   | 83,721,750.00 |        2,856,881.00 |  83,750,000.00 |\n",
            "| 75%   | 85,652,562.50 |        2,928,316.25 |  85,550,000.00 |\n",
            "| max   | 92,487,000.00 |        3,181,642.00 |  92,425,000.00 |\n",
            "+-------+---------------+---------------------+----------------+\n"
          ]
        }
      ]
    },
    {
      "cell_type": "code",
      "source": [
        "print((tabulate(results_df.describe(),headers='keys',floatfmt=\",.2f\",tablefmt=\"grid\")))"
      ],
      "metadata": {
        "colab": {
          "base_uri": "https://localhost:8080/"
        },
        "id": "HlCLCR7U9mlG",
        "outputId": "d5ea872b-5695-4a50-9c42-e6a7d5a5f688"
      },
      "execution_count": 20,
      "outputs": [
        {
          "output_type": "stream",
          "name": "stdout",
          "text": [
            "+-------+---------------+---------------------+----------------+\n",
            "|       |         Sales |   Commission_Amount |   Sales_Target |\n",
            "+=======+===============+=====================+================+\n",
            "| count |      1,000.00 |            1,000.00 |       1,000.00 |\n",
            "+-------+---------------+---------------------+----------------+\n",
            "| mean  | 83,774,850.25 |        2,860,287.53 |  83,775,900.00 |\n",
            "+-------+---------------+---------------------+----------------+\n",
            "| std   |  2,645,091.47 |          100,663.55 |   2,615,409.30 |\n",
            "+-------+---------------+---------------------+----------------+\n",
            "| min   | 75,910,500.00 |        2,586,140.00 |  75,800,000.00 |\n",
            "+-------+---------------+---------------------+----------------+\n",
            "| 25%   | 81,925,437.50 |        2,791,665.50 |  81,943,750.00 |\n",
            "+-------+---------------+---------------------+----------------+\n",
            "| 50%   | 83,721,750.00 |        2,856,881.00 |  83,750,000.00 |\n",
            "+-------+---------------+---------------------+----------------+\n",
            "| 75%   | 85,652,562.50 |        2,928,316.25 |  85,550,000.00 |\n",
            "+-------+---------------+---------------------+----------------+\n",
            "| max   | 92,487,000.00 |        3,181,642.00 |  92,425,000.00 |\n",
            "+-------+---------------+---------------------+----------------+\n"
          ]
        }
      ]
    },
    {
      "cell_type": "code",
      "source": [
        "print((tabulate(results_df.describe(),headers='keys',floatfmt=\",.2f\",tablefmt=\"fancy_grid\")))"
      ],
      "metadata": {
        "colab": {
          "base_uri": "https://localhost:8080/"
        },
        "id": "v6kywse79pT3",
        "outputId": "df5357ef-8e52-41d6-f90d-e57138ec3e46"
      },
      "execution_count": 21,
      "outputs": [
        {
          "output_type": "stream",
          "name": "stdout",
          "text": [
            "╒═══════╤═══════════════╤═════════════════════╤════════════════╕\n",
            "│       │         Sales │   Commission_Amount │   Sales_Target │\n",
            "╞═══════╪═══════════════╪═════════════════════╪════════════════╡\n",
            "│ count │      1,000.00 │            1,000.00 │       1,000.00 │\n",
            "├───────┼───────────────┼─────────────────────┼────────────────┤\n",
            "│ mean  │ 83,774,850.25 │        2,860,287.53 │  83,775,900.00 │\n",
            "├───────┼───────────────┼─────────────────────┼────────────────┤\n",
            "│ std   │  2,645,091.47 │          100,663.55 │   2,615,409.30 │\n",
            "├───────┼───────────────┼─────────────────────┼────────────────┤\n",
            "│ min   │ 75,910,500.00 │        2,586,140.00 │  75,800,000.00 │\n",
            "├───────┼───────────────┼─────────────────────┼────────────────┤\n",
            "│ 25%   │ 81,925,437.50 │        2,791,665.50 │  81,943,750.00 │\n",
            "├───────┼───────────────┼─────────────────────┼────────────────┤\n",
            "│ 50%   │ 83,721,750.00 │        2,856,881.00 │  83,750,000.00 │\n",
            "├───────┼───────────────┼─────────────────────┼────────────────┤\n",
            "│ 75%   │ 85,652,562.50 │        2,928,316.25 │  85,550,000.00 │\n",
            "├───────┼───────────────┼─────────────────────┼────────────────┤\n",
            "│ max   │ 92,487,000.00 │        3,181,642.00 │  92,425,000.00 │\n",
            "╘═══════╧═══════════════╧═════════════════════╧════════════════╛\n"
          ]
        }
      ]
    },
    {
      "cell_type": "code",
      "source": [
        "results_df['Commission_Amount'].plot(kind='hist', title=\"Total Commission Amount\")"
      ],
      "metadata": {
        "colab": {
          "base_uri": "https://localhost:8080/",
          "height": 311
        },
        "id": "gfd-AM9W9rpa",
        "outputId": "4cc29582-9675-43a6-f0b4-fcaaecce8eb0"
      },
      "execution_count": 22,
      "outputs": [
        {
          "output_type": "execute_result",
          "data": {
            "text/plain": [
              "<matplotlib.axes._subplots.AxesSubplot at 0x7f71d47571d0>"
            ]
          },
          "metadata": {},
          "execution_count": 22
        },
        {
          "output_type": "display_data",
          "data": {
            "text/plain": [
              "<Figure size 432x288 with 1 Axes>"
            ],
            "image/png": "[encoded data removed]"
          },
          "metadata": {}
        }
      ]
    },
    {
      "cell_type": "code",
      "source": [],
      "metadata": {
        "id": "3zKCz6gJ9tVT"
      },
      "execution_count": null,
      "outputs": []
    }
  ]
}