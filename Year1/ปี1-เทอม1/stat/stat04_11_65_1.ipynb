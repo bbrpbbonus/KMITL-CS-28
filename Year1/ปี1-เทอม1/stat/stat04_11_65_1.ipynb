{
  "nbformat": 4,
  "nbformat_minor": 0,
  "metadata": {
    "colab": {
      "provenance": []
    },
    "kernelspec": {
      "name": "python3",
      "display_name": "Python 3"
    },
    "language_info": {
      "name": "python"
    }
  },
  "cells": [
    {
      "cell_type": "code",
      "execution_count": null,
      "metadata": {
        "id": "jqety6DjQsde"
      },
      "outputs": [],
      "source": [
        "from statsmodels.stats.proportion import proportions_ztest\n",
        "import numpy as np\n",
        "significance = 0.05 #alpha value\n",
        "successes = np.array([320, 300])\n",
        "samples = np.array([400, 425])"
      ]
    },
    {
      "cell_type": "code",
      "source": [
        "stat,p_value = proportions_ztest(count=successes,nobs=samples,alternative='two-sided')"
      ],
      "metadata": {
        "id": "9eblyRB2UcaB"
      },
      "execution_count": null,
      "outputs": []
    },
    {
      "cell_type": "code",
      "source": [
        "print('z_stat: %0.5f, p_value: %0.5f' % (stat, p_value))\n"
      ],
      "metadata": {
        "colab": {
          "base_uri": "https://localhost:8080/"
        },
        "id": "PiGCp6ubUesf",
        "outputId": "7e77a2c5-644e-42e0-800c-371fad2f440f"
      },
      "execution_count": null,
      "outputs": [
        {
          "output_type": "stream",
          "name": "stdout",
          "text": [
            "z_stat: 3.12644, p_value: 0.00177\n",
            "Reject the null hypothesis\n"
          ]
        }
      ]
    },
    {
      "cell_type": "code",
      "source": [
        "if p_value < significance:\n",
        "  print (\"Reject the null hypothesis\")\n",
        "else:\n",
        "  print (\"Accept the null hypothesis\")"
      ],
      "metadata": {
        "colab": {
          "base_uri": "https://localhost:8080/"
        },
        "id": "AayTV-P0VLSW",
        "outputId": "694ca185-5f01-4594-e088-6e270fefb6f5"
      },
      "execution_count": null,
      "outputs": [
        {
          "output_type": "stream",
          "name": "stdout",
          "text": [
            "Reject the null hypothesis\n"
          ]
        }
      ]
    },
    {
      "cell_type": "code",
      "source": [
        "import scipy.stats as stats"
      ],
      "metadata": {
        "id": "X7TdaU74Va4e"
      },
      "execution_count": null,
      "outputs": []
    },
    {
      "cell_type": "code",
      "source": [
        "significance = 0.05\n",
        "A = np.array([43, 53, 65, 49, 55, 60, 47, 50, 60, 55])\n",
        "B = np.array([62, 43, 54, 67, 59, 45, 46, 63, 65, 45])"
      ],
      "metadata": {
        "id": "PcYHlm9oV0l8"
      },
      "execution_count": null,
      "outputs": []
    },
    {
      "cell_type": "code",
      "source": [
        "stat, p_value = stats.ttest_ind(a = A, b = B, equal_var = True)"
      ],
      "metadata": {
        "id": "Yibag5QaV2t_"
      },
      "execution_count": null,
      "outputs": []
    },
    {
      "cell_type": "code",
      "source": [
        "print('t_stat: %0.5f, p_value: %0.4f' % (stat, p_value))\n",
        "if p_value < significance:\n",
        "  print (\"Reject the null hypothesis\")\n",
        "else:\n",
        "  print (\"Accpet the null hypothesis\")"
      ],
      "metadata": {
        "colab": {
          "base_uri": "https://localhost:8080/"
        },
        "id": "mnb7bZRDV4Nm",
        "outputId": "f6ddfa0b-6368-4baf-992e-bcc12972f814"
      },
      "execution_count": null,
      "outputs": [
        {
          "output_type": "stream",
          "name": "stdout",
          "text": [
            "t_stat: -0.32795, p_value: 0.7467\n",
            "Accpet the null hypothesis\n"
          ]
        }
      ]
    },
    {
      "cell_type": "code",
      "source": [
        "import scipy.stats as stats"
      ],
      "metadata": {
        "id": "uyXSzvHfV8z3"
      },
      "execution_count": null,
      "outputs": []
    },
    {
      "cell_type": "code",
      "source": [
        "significance = 0.05\n",
        "A = np.array([43, 53, 65, 49, 55, 60, 147, 50, 60, 55])\n",
        "B = np.array([62, 43, 54, 67, 59, 45, 46, 63, 65, 45])"
      ],
      "metadata": {
        "id": "F4iu6gPoXldK"
      },
      "execution_count": null,
      "outputs": []
    },
    {
      "cell_type": "code",
      "source": [
        "stat, p_value = stats.ttest_ind(A, B, equal_var = False)"
      ],
      "metadata": {
        "id": "MBDRiYotXnb2"
      },
      "execution_count": null,
      "outputs": []
    },
    {
      "cell_type": "code",
      "source": [
        "print('t_stat: %0.5f, p_value: %0.4f' % (stat, p_value))\n",
        "if p_value < significance:\n",
        "  print (\"Reject the null hypothesis\")\n",
        "else:\n",
        "  print (\"Accpet the null hypothesis\")"
      ],
      "metadata": {
        "colab": {
          "base_uri": "https://localhost:8080/"
        },
        "id": "tdEhzcv4Xpqg",
        "outputId": "6a29ce6f-febb-49aa-8159-8d369fc8eef3"
      },
      "execution_count": null,
      "outputs": [
        {
          "output_type": "stream",
          "name": "stdout",
          "text": [
            "t_stat: 0.88668, p_value: 0.3946\n",
            "Accpet the null hypothesis\n"
          ]
        }
      ]
    },
    {
      "cell_type": "code",
      "source": [
        "import scipy.stats as stats"
      ],
      "metadata": {
        "id": "UsbGM453Xrl9"
      },
      "execution_count": null,
      "outputs": []
    },
    {
      "cell_type": "code",
      "source": [
        "significance = 0.01\n",
        "Pretest = np.array([60, 45, 80, 87, 79, 75, 60, 30, 45])\n",
        "Posttest = np.array([75, 65, 90, 80, 89, 95, 85, 69, 40])"
      ],
      "metadata": {
        "id": "pBbcaNumYJSF"
      },
      "execution_count": null,
      "outputs": []
    },
    {
      "cell_type": "code",
      "source": [
        "stat, p_value = stats.ttest_rel(Pretest,Posttest)"
      ],
      "metadata": {
        "id": "C3L63osfYLMX"
      },
      "execution_count": null,
      "outputs": []
    },
    {
      "cell_type": "code",
      "source": [
        "print('t_stat: %0.5f, p_value: %0.4f' % (stat, p_value))\n",
        "if p_value < significance:\n",
        "  print (\"Reject the null hypothesis\")\n",
        "else:\n",
        "  print (\"Accpet the null hypothesis\")"
      ],
      "metadata": {
        "colab": {
          "base_uri": "https://localhost:8080/"
        },
        "id": "ySbvYKxeYMpx",
        "outputId": "5e10598b-636a-4258-86d3-508488047770"
      },
      "execution_count": null,
      "outputs": [
        {
          "output_type": "stream",
          "name": "stdout",
          "text": [
            "t_stat: -2.94514, p_value: 0.0186\n",
            "Accpet the null hypothesis\n"
          ]
        }
      ]
    },
    {
      "cell_type": "code",
      "source": [
        "import pandas as pd\n",
        "from scipy.stats import chi2_contingency"
      ],
      "metadata": {
        "id": "XjGsd7PIYR9-"
      },
      "execution_count": null,
      "outputs": []
    },
    {
      "cell_type": "code",
      "source": [
        "df"
      ],
      "metadata": {
        "colab": {
          "base_uri": "https://localhost:8080/",
          "height": 112
        },
        "id": "yrTiNOysaEAx",
        "outputId": "316326c4-22c1-424d-8be9-6437715771de"
      },
      "execution_count": null,
      "outputs": [
        {
          "output_type": "execute_result",
          "data": {
            "text/plain": [
              "         Male  Female\n",
              "Married    25      15\n",
              "Single     35      25"
            ],
            "text/html": [
              "\n",
              "  <div id=\"df-bc35d138-a3ba-4987-9ae0-9f9af8cd488c\">\n",
              "    <div class=\"colab-df-container\">\n",
              "      <div>\n",
              "<style scoped>\n",
              "    .dataframe tbody tr th:only-of-type {\n",
              "        vertical-align: middle;\n",
              "    }\n",
              "\n",
              "    .dataframe tbody tr th {\n",
              "        vertical-align: top;\n",
              "    }\n",
              "\n",
              "    .dataframe thead th {\n",
              "        text-align: right;\n",
              "    }\n",
              "</style>\n",
              "<table border=\"1\" class=\"dataframe\">\n",
              "  <thead>\n",
              "    <tr style=\"text-align: right;\">\n",
              "      <th></th>\n",
              "      <th>Male</th>\n",
              "      <th>Female</th>\n",
              "    </tr>\n",
              "  </thead>\n",
              "  <tbody>\n",
              "    <tr>\n",
              "      <th>Married</th>\n",
              "      <td>25</td>\n",
              "      <td>15</td>\n",
              "    </tr>\n",
              "    <tr>\n",
              "      <th>Single</th>\n",
              "      <td>35</td>\n",
              "      <td>25</td>\n",
              "    </tr>\n",
              "  </tbody>\n",
              "</table>\n",
              "</div>\n",
              "      <button class=\"colab-df-convert\" onclick=\"convertToInteractive('df-bc35d138-a3ba-4987-9ae0-9f9af8cd488c')\"\n",
              "              title=\"Convert this dataframe to an interactive table.\"\n",
              "              style=\"display:none;\">\n",
              "        \n",
              "  <svg xmlns=\"http://www.w3.org/2000/svg\" height=\"24px\"viewBox=\"0 0 24 24\"\n",
              "       width=\"24px\">\n",
              "    <path d=\"M0 0h24v24H0V0z\" fill=\"none\"/>\n",
              "    <path d=\"M18.56 5.44l.94 2.06.94-2.06 2.06-.94-2.06-.94-.94-2.06-.94 2.06-2.06.94zm-11 1L8.5 8.5l.94-2.06 2.06-.94-2.06-.94L8.5 2.5l-.94 2.06-2.06.94zm10 10l.94 2.06.94-2.06 2.06-.94-2.06-.94-.94-2.06-.94 2.06-2.06.94z\"/><path d=\"M17.41 7.96l-1.37-1.37c-.4-.4-.92-.59-1.43-.59-.52 0-1.04.2-1.43.59L10.3 9.45l-7.72 7.72c-.78.78-.78 2.05 0 2.83L4 21.41c.39.39.9.59 1.41.59.51 0 1.02-.2 1.41-.59l7.78-7.78 2.81-2.81c.8-.78.8-2.07 0-2.86zM5.41 20L4 18.59l7.72-7.72 1.47 1.35L5.41 20z\"/>\n",
              "  </svg>\n",
              "      </button>\n",
              "      \n",
              "  <style>\n",
              "    .colab-df-container {\n",
              "      display:flex;\n",
              "      flex-wrap:wrap;\n",
              "      gap: 12px;\n",
              "    }\n",
              "\n",
              "    .colab-df-convert {\n",
              "      background-color: #E8F0FE;\n",
              "      border: none;\n",
              "      border-radius: 50%;\n",
              "      cursor: pointer;\n",
              "      display: none;\n",
              "      fill: #1967D2;\n",
              "      height: 32px;\n",
              "      padding: 0 0 0 0;\n",
              "      width: 32px;\n",
              "    }\n",
              "\n",
              "    .colab-df-convert:hover {\n",
              "      background-color: #E2EBFA;\n",
              "      box-shadow: 0px 1px 2px rgba(60, 64, 67, 0.3), 0px 1px 3px 1px rgba(60, 64, 67, 0.15);\n",
              "      fill: #174EA6;\n",
              "    }\n",
              "\n",
              "    [theme=dark] .colab-df-convert {\n",
              "      background-color: #3B4455;\n",
              "      fill: #D2E3FC;\n",
              "    }\n",
              "\n",
              "    [theme=dark] .colab-df-convert:hover {\n",
              "      background-color: #434B5C;\n",
              "      box-shadow: 0px 1px 3px 1px rgba(0, 0, 0, 0.15);\n",
              "      filter: drop-shadow(0px 1px 2px rgba(0, 0, 0, 0.3));\n",
              "      fill: #FFFFFF;\n",
              "    }\n",
              "  </style>\n",
              "\n",
              "      <script>\n",
              "        const buttonEl =\n",
              "          document.querySelector('#df-bc35d138-a3ba-4987-9ae0-9f9af8cd488c button.colab-df-convert');\n",
              "        buttonEl.style.display =\n",
              "          google.colab.kernel.accessAllowed ? 'block' : 'none';\n",
              "\n",
              "        async function convertToInteractive(key) {\n",
              "          const element = document.querySelector('#df-bc35d138-a3ba-4987-9ae0-9f9af8cd488c');\n",
              "          const dataTable =\n",
              "            await google.colab.kernel.invokeFunction('convertToInteractive',\n",
              "                                                     [key], {});\n",
              "          if (!dataTable) return;\n",
              "\n",
              "          const docLinkHtml = 'Like what you see? Visit the ' +\n",
              "            '<a target=\"_blank\" href=https://colab.research.google.com/notebooks/data_table.ipynb>data table notebook</a>'\n",
              "            + ' to learn more about interactive tables.';\n",
              "          element.innerHTML = '';\n",
              "          dataTable['output_type'] = 'display_data';\n",
              "          await google.colab.output.renderOutput(dataTable, element);\n",
              "          const docLink = document.createElement('div');\n",
              "          docLink.innerHTML = docLinkHtml;\n",
              "          element.appendChild(docLink);\n",
              "        }\n",
              "      </script>\n",
              "    </div>\n",
              "  </div>\n",
              "  "
            ]
          },
          "metadata": {},
          "execution_count": 32
        }
      ]
    },
    {
      "cell_type": "code",
      "source": [
        "df = pd.DataFrame(index=[\"Married\",\"Single\"], data={'Male': [25, 35],'Female': [15,25]})"
      ],
      "metadata": {
        "id": "FLoXSPAPZ7dj"
      },
      "execution_count": null,
      "outputs": []
    },
    {
      "cell_type": "code",
      "source": [
        "chi2, p, dof, expected = chi2_contingency(df,correction=False)\n",
        "print(f\"chi2 statistic: {chi2:.5g}\")\n",
        "print(f\"p-value: {p:.5g}\")\n",
        "print(f\"degrees of freedom: {dof}\")\n",
        "print(\"expected frequencies:\")\n",
        "print(expected)"
      ],
      "metadata": {
        "colab": {
          "base_uri": "https://localhost:8080/"
        },
        "id": "q7MUgP4pZ9C2",
        "outputId": "52b91fa7-dc79-4897-9185-4b3925b2560b"
      },
      "execution_count": null,
      "outputs": [
        {
          "output_type": "stream",
          "name": "stdout",
          "text": [
            "chi2 statistic: 0.17361\n",
            "p-value: 0.67692\n",
            "degrees of freedom: 1\n",
            "expected frequencies:\n",
            "[[24. 16.]\n",
            " [36. 24.]]\n"
          ]
        }
      ]
    },
    {
      "cell_type": "code",
      "source": [
        "row1 = [525,105,50]\n",
        "row2 = [400,200,25]\n",
        "row3 = [600,150,10]\n",
        "data=[row1,row2,row3]\n",
        "chi2, p, dof, expected = chi2_contingency(data)\n",
        "print(f\"chi2 statistic: {chi2:.5g}\")\n",
        "print(f\"p-value: {p:.5g}\")\n",
        "print(f\"degrees of freedom: {dof}\")\n",
        "print(\"expected frequencies:\")\n",
        "print(expected)"
      ],
      "metadata": {
        "colab": {
          "base_uri": "https://localhost:8080/"
        },
        "id": "CBIO2kzBZ-4a",
        "outputId": "24a4959d-e5f2-4854-bbae-fd9a00e92789"
      },
      "execution_count": null,
      "outputs": [
        {
          "output_type": "stream",
          "name": "stdout",
          "text": [
            "chi2 statistic: 87.136\n",
            "p-value: 5.3406e-18\n",
            "degrees of freedom: 4\n",
            "expected frequencies:\n",
            "[[502.17917676 149.83050847  27.99031477]\n",
            " [461.56174334 137.71186441  25.72639225]\n",
            " [561.2590799  167.45762712  31.28329298]]\n"
          ]
        }
      ]
    },
    {
      "cell_type": "code",
      "source": [],
      "metadata": {
        "id": "wAzg4h6Vee84"
      },
      "execution_count": null,
      "outputs": []
    }
  ]
}